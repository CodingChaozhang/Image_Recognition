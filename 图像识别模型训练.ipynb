{
 "cells": [
  {
   "cell_type": "markdown",
   "metadata": {},
   "source": [
    "### TensorFlow利用卷积神经网络实现CIFAR-10图像识别"
   ]
  },
  {
   "cell_type": "markdown",
   "metadata": {},
   "source": [
    "使用卷积神经网络对CIFAR-10数据集进行图像识别。"
   ]
  },
  {
   "cell_type": "markdown",
   "metadata": {},
   "source": [
    "**CIFAR-10数据集**"
   ]
  },
  {
   "cell_type": "markdown",
   "metadata": {},
   "source": [
    "`CIFAR-10`是由`Alex Krizhevsky`,`Vinod Nair`和`Geoffrey Hinton`收集而来的用于图像识别的数据集，它一共有10个分类，每个分类有6000张32×32大小的彩色图像，所以一共有60000张图像，其中50000张用于训练，10000用于测试。"
   ]
  },
  {
   "cell_type": "markdown",
   "metadata": {},
   "source": [
    "<img src=\"https://blobscdn.gitbook.com/v0/b/gitbook-28427.appspot.com/o/assets%2F-LYtTdBhaX9EsGjMVkHV%2F-LaNQHeKOfKnWqP40HBJ%2F-LaNbtucXS64EvUAH15B%2Fimage.png?alt=media&token=2559fa46-040f-4c74-adb4-11fc5f1367ec\" width=500>"
   ]
  },
  {
   "cell_type": "markdown",
   "metadata": {},
   "source": [
    "**CIFAR-10数据集**"
   ]
  },
  {
   "cell_type": "code",
   "execution_count": 1,
   "metadata": {},
   "outputs": [
    {
     "name": "stdout",
     "output_type": "stream",
     "text": [
      "Data file already exists.\n",
      "Directory already exists\n"
     ]
    }
   ],
   "source": [
    "import urllib.request\n",
    "import os\n",
    "import tarfile\n",
    "\n",
    "# 下载\n",
    "url = \"https://www.cs.toronto.edu/~kriz/cifar-10-python.tar.gz\"\n",
    "filepath = \"data/cifar-10-python.tar.gz\"\n",
    "if not os.path.isfile(filepath):\n",
    "    result = urllib.request.urlretrieve(url,filepath)\n",
    "    print(\"downloaded:\",result)\n",
    "else:\n",
    "    print(\"Data file already exists.\")\n",
    "    \n",
    "# 解压\n",
    "if not os.path.exists(\"data/cifar-10-batches-py\"):\n",
    "    tfile = tarfile.open(\"data/cifar-10-python.tar.gz\",\"r:gz\")\n",
    "    result = tfile.extractall(\"data/\")\n",
    "    print(\"Extracted to ./data/cifar-10-batches-py/\")\n",
    "else:\n",
    "    print(\"Directory already exists\")"
   ]
  },
  {
   "cell_type": "markdown",
   "metadata": {},
   "source": [
    "**导入CIFAR-10数据集**"
   ]
  },
  {
   "cell_type": "markdown",
   "metadata": {},
   "source": [
    "在下载和解压之后，我们需要读取训练数据和测试数据。\n",
    "\n",
    "在这里，定义了两个函数:load_CIFAR_batch()和load_CIFAR_data()\n",
    "\n",
    "load_CIFAR_batch()读取一个批次的样本  load_CIFAR_data()实现数据集的完整读取"
   ]
  },
  {
   "cell_type": "code",
   "execution_count": 2,
   "metadata": {},
   "outputs": [
    {
     "name": "stdout",
     "output_type": "stream",
     "text": [
      "loading  data/cifar-10-batches-py/data_batch_1\n",
      "loading  data/cifar-10-batches-py/data_batch_2\n",
      "loading  data/cifar-10-batches-py/data_batch_3\n",
      "loading  data/cifar-10-batches-py/data_batch_4\n",
      "loading  data/cifar-10-batches-py/data_batch_5\n",
      "finished loadding CIFAR-10 data\n"
     ]
    }
   ],
   "source": [
    "import os\n",
    "import numpy as np\n",
    "import pickle as p\n",
    "\n",
    "def load_CIFAR_batch(filename):\n",
    "    \"\"\" load single batch of cifar \"\"\"  \n",
    "    with open(filename,\"rb\") as f:\n",
    "        # 一个样本由标签和图像数据组成\n",
    "        # <1 x label><3072 x pixel> (3072=32x32x3)\n",
    "        # ...\n",
    "        # <1 x label><3072 x pixel>\n",
    "        data_dict = p.load(f,encoding=\"bytes\")\n",
    "        images = data_dict[b\"data\"]\n",
    "        labels = data_dict[b\"labels\"]\n",
    "        \n",
    "        # 原始数据结构调整为\n",
    "        images = images.reshape(10000,3,32,32)\n",
    "        images = images.transpose(0,2,3,1) # 把通道数据C移到最后一个维度\n",
    "        \n",
    "        labels = np.array(labels)\n",
    "        \n",
    "        return images,labels\n",
    "\n",
    "def load_CIFAR_data(data_dir):\n",
    "    \"\"\"load CIFAR data\"\"\"\n",
    "    \n",
    "    images_train = []\n",
    "    labels_train = []\n",
    "    for i in range(5):\n",
    "        f = os.path.join(data_dir,\"data_batch_%d\" %(i+1))\n",
    "        print('loading ',f)\n",
    "        # 调用 load_CIFAR_batch( )获得批量的图像及其对应的标签\n",
    "        image_batch,label_batch=load_CIFAR_batch(f)\n",
    "        images_train.append(image_batch)\n",
    "        labels_train.append(label_batch)\n",
    "        Xtrain=np.concatenate(images_train)\n",
    "        Ytrain=np.concatenate(labels_train)\n",
    "        del image_batch ,label_batch\n",
    "    \n",
    "    Xtest,Ytest=load_CIFAR_batch(os.path.join(data_dir,'test_batch'))\n",
    "    print('finished loadding CIFAR-10 data')\n",
    "    \n",
    "    # 返回训练集的图像和标签，测试集的图像和标签\n",
    "    return Xtrain,Ytrain,Xtest,Ytest\n",
    "\n",
    "data_dir = 'data/cifar-10-batches-py/'\n",
    "Xtrain,Ytrain,Xtest,Ytest = load_CIFAR_data(data_dir)"
   ]
  },
  {
   "cell_type": "markdown",
   "metadata": {},
   "source": [
    "每次读取10000条数据，所以load_CIFAR_data()通过一个for循环语句来循环地调用load_CIFAR_batch()，从而获取完整的数据集，最后返回的是训练集的图像和标签以及测试集的图像和标签。"
   ]
  },
  {
   "cell_type": "markdown",
   "metadata": {},
   "source": [
    "**显示数据集信息**"
   ]
  },
  {
   "cell_type": "code",
   "execution_count": 3,
   "metadata": {},
   "outputs": [
    {
     "name": "stdout",
     "output_type": "stream",
     "text": [
      "training data shape: (50000, 32, 32, 3)\n",
      "training labels shape: (50000,)\n",
      "test data shape: (10000, 32, 32, 3)\n",
      "test labels shape: (10000,)\n"
     ]
    }
   ],
   "source": [
    "print(\"training data shape:\",Xtrain.shape)\n",
    "print(\"training labels shape:\",Ytrain.shape)\n",
    "print(\"test data shape:\",Xtest.shape)\n",
    "print(\"test labels shape:\",Ytest.shape)"
   ]
  },
  {
   "cell_type": "markdown",
   "metadata": {},
   "source": [
    "训练集有50000条数据，测试集有10000条数据，图像的尺寸为32×32，通道为RGB三通道。"
   ]
  },
  {
   "cell_type": "markdown",
   "metadata": {},
   "source": [
    "**查看单项image和label**"
   ]
  },
  {
   "cell_type": "code",
   "execution_count": 4,
   "metadata": {},
   "outputs": [
    {
     "data": {
      "text/plain": [
       "<matplotlib.image.AxesImage at 0x7fc0fefcf358>"
      ]
     },
     "execution_count": 4,
     "metadata": {},
     "output_type": "execute_result"
    },
    {
     "data": {
      "image/png": "[encoded data removed]",
      "text/plain": [
       "<Figure size 432x288 with 1 Axes>"
      ]
     },
     "metadata": {
      "needs_background": "light"
     },
     "output_type": "display_data"
    }
   ],
   "source": [
    "import matplotlib.pyplot as plt\n",
    "%matplotlib inline\n",
    "\n",
    "# 查看image\n",
    "plt.imshow(Xtrain[6])"
   ]
  },
  {
   "cell_type": "markdown",
   "metadata": {},
   "source": [
    "**查看多项images和label**"
   ]
  },
  {
   "cell_type": "code",
   "execution_count": 5,
   "metadata": {},
   "outputs": [
    {
     "data": {
      "image/png": "[encoded data removed]",
      "text/plain": [
       "<Figure size 864x432 with 10 Axes>"
      ]
     },
     "metadata": {
      "needs_background": "light"
     },
     "output_type": "display_data"
    }
   ],
   "source": [
    "import matplotlib.pyplot as plt\n",
    "%matplotlib inline\n",
    "\n",
    "#定义标签字典，每一个数字所代表的图像类别的名称\n",
    "label_dict={0:\"飞机\",1:\"汽车\",2:\"鸟\",3:\"猫\",4:\"鹿\",\n",
    "            5:\"dog\",6:\"frog\",7:\"horse\",8:\"ship\",9:\"truck\"}\n",
    "\n",
    "# 定义显示图像数据及其对应标签的函数\n",
    "def plot_images_labels_prediction(images,labels,prediction,idx,num=10):\n",
    "    fig = plt.gcf()\n",
    "    fig.set_size_inches(12,6)\n",
    "    if num>10:\n",
    "        num = 10\n",
    "    for i in range(0,num):\n",
    "        ax = plt.subplot(2,5,i+1)\n",
    "        ax.imshow(images[idx],cmap=\"binary\")\n",
    "        \n",
    "        title = str(i)+\",\"+label_dict[labels[idx]]\n",
    "        if len(prediction)>0:\n",
    "            title += \"=>\"+label_dict[prediction[idx]]\n",
    "        \n",
    "        ax.set_title(title,fontsize=10)\n",
    "        \n",
    "        idx+=1\n",
    "    plt.show()\n",
    "    \n",
    "# 显示图像数据集及其对应标签\n",
    "plot_images_labels_prediction(Xtest,Ytest,[],1,10)"
   ]
  },
  {
   "cell_type": "markdown",
   "metadata": {},
   "source": [
    "**数据预处理**"
   ]
  },
  {
   "cell_type": "markdown",
   "metadata": {},
   "source": [
    "接下来，我们要对数据进行必要的预处理，这个数据包括图像数据和标签数据。"
   ]
  },
  {
   "cell_type": "markdown",
   "metadata": {},
   "source": [
    "**图像数据预处理**"
   ]
  },
  {
   "cell_type": "markdown",
   "metadata": {},
   "source": [
    "我们先查看一下第一个训练样本的第一个像素点"
   ]
  },
  {
   "cell_type": "code",
   "execution_count": 6,
   "metadata": {},
   "outputs": [
    {
     "data": {
      "text/plain": [
       "array([59, 62, 63], dtype=uint8)"
      ]
     },
     "execution_count": 6,
     "metadata": {},
     "output_type": "execute_result"
    }
   ],
   "source": [
    "#x显示第一个图的第一个像素点\n",
    "Xtrain[0][0][0]"
   ]
  },
  {
   "cell_type": "markdown",
   "metadata": {},
   "source": [
    "由于图像时三通道的，所以59,62,63这三个数分别代表了图像的第一个像素点在RGB三个通道上的像素值。"
   ]
  },
  {
   "cell_type": "markdown",
   "metadata": {},
   "source": [
    "然后对图像进行标准化处理："
   ]
  },
  {
   "cell_type": "code",
   "execution_count": 7,
   "metadata": {},
   "outputs": [],
   "source": [
    "# 将图像进行数字标准化\n",
    "Xtrain_normalize = Xtrain.astype(\"float32\")/255.0\n",
    "Xtest_normalize = Xtest.astype(\"float32\")/255.0"
   ]
  },
  {
   "cell_type": "code",
   "execution_count": 8,
   "metadata": {},
   "outputs": [
    {
     "data": {
      "text/plain": [
       "array([ 0.23137255,  0.24313726,  0.24705882], dtype=float32)"
      ]
     },
     "execution_count": 8,
     "metadata": {},
     "output_type": "execute_result"
    }
   ],
   "source": [
    "# 查看预处理后图像数据信息\n",
    "Xtrain_normalize[0][0][0]"
   ]
  },
  {
   "cell_type": "markdown",
   "metadata": {},
   "source": [
    "**标签数据预处理**"
   ]
  },
  {
   "cell_type": "code",
   "execution_count": 9,
   "metadata": {},
   "outputs": [
    {
     "data": {
      "text/plain": [
       "array([6, 9, 9, 4, 1, 1, 2, 7, 8, 3])"
      ]
     },
     "execution_count": 9,
     "metadata": {},
     "output_type": "execute_result"
    }
   ],
   "source": [
    "# 查看标签数据\n",
    "Ytrain[:10]"
   ]
  },
  {
   "cell_type": "code",
   "execution_count": 10,
   "metadata": {},
   "outputs": [],
   "source": [
    "# 独热编码\n",
    "from sklearn.preprocessing import OneHotEncoder\n",
    "\n",
    "encoder = OneHotEncoder(sparse=False)\n",
    "\n",
    "yy = [[0],[1],[2],[3],[4],[5],[6],[7],[8],[9]]\n",
    "\n",
    "encoder.fit(yy)\n",
    "Ytrain_reshape = Ytrain.reshape(-1,1)\n",
    "Ytrain_onehot = encoder.transform(Ytrain_reshape)\n",
    "Ytest_reshape = Ytest.reshape(-1,1)\n",
    "Ytest_onehot = encoder.transform(Ytest_reshape)"
   ]
  },
  {
   "cell_type": "code",
   "execution_count": 11,
   "metadata": {},
   "outputs": [
    {
     "data": {
      "text/plain": [
       "(50000, 10)"
      ]
     },
     "execution_count": 11,
     "metadata": {},
     "output_type": "execute_result"
    }
   ],
   "source": [
    "Ytrain_onehot.shape"
   ]
  },
  {
   "cell_type": "markdown",
   "metadata": {},
   "source": [
    "在未进行独热编码之前，对于训练数据集，前五个样本所对应的标签是6,9,9,4,1"
   ]
  },
  {
   "cell_type": "code",
   "execution_count": 12,
   "metadata": {},
   "outputs": [
    {
     "data": {
      "text/plain": [
       "array([6, 9, 9, 4, 1])"
      ]
     },
     "execution_count": 12,
     "metadata": {},
     "output_type": "execute_result"
    }
   ],
   "source": [
    "Ytrain[:5]"
   ]
  },
  {
   "cell_type": "markdown",
   "metadata": {},
   "source": [
    "在进行独热编码之后，它们所对应的标签就变成了下图的样子："
   ]
  },
  {
   "cell_type": "code",
   "execution_count": 13,
   "metadata": {},
   "outputs": [
    {
     "data": {
      "text/plain": [
       "array([[ 0.,  0.,  0.,  0.,  0.,  0.,  1.,  0.,  0.,  0.],\n",
       "       [ 0.,  0.,  0.,  0.,  0.,  0.,  0.,  0.,  0.,  1.],\n",
       "       [ 0.,  0.,  0.,  0.,  0.,  0.,  0.,  0.,  0.,  1.],\n",
       "       [ 0.,  0.,  0.,  0.,  1.,  0.,  0.,  0.,  0.,  0.],\n",
       "       [ 0.,  1.,  0.,  0.,  0.,  0.,  0.,  0.,  0.,  0.]])"
      ]
     },
     "execution_count": 13,
     "metadata": {},
     "output_type": "execute_result"
    }
   ],
   "source": [
    "Ytrain_onehot[:5]"
   ]
  },
  {
   "cell_type": "markdown",
   "metadata": {},
   "source": [
    "**建立CIFAR-10图像分类模型**"
   ]
  },
  {
   "cell_type": "markdown",
   "metadata": {},
   "source": [
    "首先，导入需要的库"
   ]
  },
  {
   "cell_type": "code",
   "execution_count": 14,
   "metadata": {},
   "outputs": [
    {
     "name": "stderr",
     "output_type": "stream",
     "text": [
      "Using TensorFlow backend.\n"
     ]
    }
   ],
   "source": [
    "from tensorflow import keras\n",
    "from keras.models import Sequential\n",
    "from keras.layers import Dense, Dropout, Activation, Flatten\n",
    "from keras.layers import Conv2D, MaxPooling2D"
   ]
  },
  {
   "cell_type": "markdown",
   "metadata": {},
   "source": [
    "**定义模型**"
   ]
  },
  {
   "cell_type": "code",
   "execution_count": 15,
   "metadata": {},
   "outputs": [],
   "source": [
    "model = Sequential()\n",
    "\n",
    "model.add(Conv2D(32, (3, 3), padding='same', input_shape=Xtrain.shape[1:]))\n",
    "model.add(Activation('relu'))\n",
    "\n",
    "model.add(MaxPooling2D(pool_size=(2, 2)))\n",
    "model.add(Dropout(0.25))\n",
    "\n",
    "model.add(Conv2D(64, (3, 3), padding='same'))\n",
    "model.add(Activation('relu'))\n",
    "\n",
    "model.add(MaxPooling2D(pool_size=(2, 2)))\n",
    "model.add(Dropout(0.25))\n",
    "\n",
    "model.add(Flatten())\n",
    "\n",
    "model.add(Dense(512))\n",
    "model.add(Activation('relu'))\n",
    "model.add(Dropout(0.5))\n",
    "\n",
    "model.add(Dense(10))\n",
    "model.add(Activation('softmax'))"
   ]
  },
  {
   "cell_type": "code",
   "execution_count": 16,
   "metadata": {},
   "outputs": [
    {
     "name": "stdout",
     "output_type": "stream",
     "text": [
      "_________________________________________________________________\n",
      "Layer (type)                 Output Shape              Param #   \n",
      "=================================================================\n",
      "conv2d_1 (Conv2D)            (None, 32, 32, 32)        896       \n",
      "_________________________________________________________________\n",
      "activation_1 (Activation)    (None, 32, 32, 32)        0         \n",
      "_________________________________________________________________\n",
      "max_pooling2d_1 (MaxPooling2 (None, 16, 16, 32)        0         \n",
      "_________________________________________________________________\n",
      "dropout_1 (Dropout)          (None, 16, 16, 32)        0         \n",
      "_________________________________________________________________\n",
      "conv2d_2 (Conv2D)            (None, 16, 16, 64)        18496     \n",
      "_________________________________________________________________\n",
      "activation_2 (Activation)    (None, 16, 16, 64)        0         \n",
      "_________________________________________________________________\n",
      "max_pooling2d_2 (MaxPooling2 (None, 8, 8, 64)          0         \n",
      "_________________________________________________________________\n",
      "dropout_2 (Dropout)          (None, 8, 8, 64)          0         \n",
      "_________________________________________________________________\n",
      "flatten_1 (Flatten)          (None, 4096)              0         \n",
      "_________________________________________________________________\n",
      "dense_1 (Dense)              (None, 512)               2097664   \n",
      "_________________________________________________________________\n",
      "activation_3 (Activation)    (None, 512)               0         \n",
      "_________________________________________________________________\n",
      "dropout_3 (Dropout)          (None, 512)               0         \n",
      "_________________________________________________________________\n",
      "dense_2 (Dense)              (None, 10)                5130      \n",
      "_________________________________________________________________\n",
      "activation_4 (Activation)    (None, 10)                0         \n",
      "=================================================================\n",
      "Total params: 2,122,186\n",
      "Trainable params: 2,122,186\n",
      "Non-trainable params: 0\n",
      "_________________________________________________________________\n"
     ]
    }
   ],
   "source": [
    "model.summary()"
   ]
  },
  {
   "cell_type": "markdown",
   "metadata": {},
   "source": [
    "**编译模型**"
   ]
  },
  {
   "cell_type": "code",
   "execution_count": 17,
   "metadata": {},
   "outputs": [],
   "source": [
    "# train the model using RMSprop\n",
    "model.compile(loss='categorical_crossentropy', optimizer=\"rmsprop\", metrics=['accuracy'])"
   ]
  },
  {
   "cell_type": "markdown",
   "metadata": {},
   "source": [
    "**模型训练**"
   ]
  },
  {
   "cell_type": "code",
   "execution_count": 18,
   "metadata": {},
   "outputs": [
    {
     "name": "stdout",
     "output_type": "stream",
     "text": [
      "Epoch 1/50\n",
      " - 7s - loss: 1.8550 - acc: 0.3349\n",
      "Epoch 2/50\n",
      " - 4s - loss: 1.4286 - acc: 0.4934\n",
      "Epoch 3/50\n",
      " - 4s - loss: 1.2641 - acc: 0.5553\n",
      "Epoch 4/50\n",
      " - 4s - loss: 1.1505 - acc: 0.5954\n",
      "Epoch 5/50\n",
      " - 4s - loss: 1.0698 - acc: 0.6225\n",
      "Epoch 6/50\n",
      " - 4s - loss: 1.0141 - acc: 0.6465\n",
      "Epoch 7/50\n",
      " - 4s - loss: 0.9553 - acc: 0.6655\n",
      "Epoch 8/50\n",
      " - 4s - loss: 0.9124 - acc: 0.6815\n",
      "Epoch 9/50\n",
      " - 4s - loss: 0.8640 - acc: 0.6979\n",
      "Epoch 10/50\n",
      " - 4s - loss: 0.8300 - acc: 0.7090\n",
      "Epoch 11/50\n",
      " - 4s - loss: 0.7959 - acc: 0.7228\n",
      "Epoch 12/50\n",
      " - 4s - loss: 0.7657 - acc: 0.7309\n",
      "Epoch 13/50\n",
      " - 4s - loss: 0.7395 - acc: 0.7417\n",
      "Epoch 14/50\n",
      " - 4s - loss: 0.7097 - acc: 0.7533\n",
      "Epoch 15/50\n",
      " - 4s - loss: 0.6845 - acc: 0.7646\n",
      "Epoch 16/50\n",
      " - 4s - loss: 0.6622 - acc: 0.7695\n",
      "Epoch 17/50\n",
      " - 4s - loss: 0.6390 - acc: 0.7797\n",
      "Epoch 18/50\n",
      " - 4s - loss: 0.6266 - acc: 0.7837\n",
      "Epoch 19/50\n",
      " - 4s - loss: 0.6103 - acc: 0.7884\n",
      "Epoch 20/50\n",
      " - 4s - loss: 0.5954 - acc: 0.7937\n",
      "Epoch 21/50\n",
      " - 4s - loss: 0.5782 - acc: 0.8008\n",
      "Epoch 22/50\n",
      " - 4s - loss: 0.5587 - acc: 0.8063\n",
      "Epoch 23/50\n",
      " - 4s - loss: 0.5534 - acc: 0.8099\n",
      "Epoch 24/50\n",
      " - 4s - loss: 0.5367 - acc: 0.8148\n",
      "Epoch 25/50\n",
      " - 4s - loss: 0.5274 - acc: 0.8199\n",
      "Epoch 26/50\n",
      " - 4s - loss: 0.5204 - acc: 0.8215\n",
      "Epoch 27/50\n",
      " - 4s - loss: 0.5118 - acc: 0.8236\n",
      "Epoch 28/50\n",
      " - 4s - loss: 0.5018 - acc: 0.8279\n",
      "Epoch 29/50\n",
      " - 4s - loss: 0.4972 - acc: 0.8304\n",
      "Epoch 30/50\n",
      " - 4s - loss: 0.4900 - acc: 0.8330\n",
      "Epoch 31/50\n",
      " - 4s - loss: 0.4911 - acc: 0.8326\n",
      "Epoch 32/50\n",
      " - 4s - loss: 0.4792 - acc: 0.8389\n",
      "Epoch 33/50\n",
      " - 4s - loss: 0.4712 - acc: 0.8392\n",
      "Epoch 34/50\n",
      " - 4s - loss: 0.4703 - acc: 0.8405\n",
      "Epoch 35/50\n",
      " - 4s - loss: 0.4663 - acc: 0.8434\n",
      "Epoch 36/50\n",
      " - 4s - loss: 0.4630 - acc: 0.8434\n",
      "Epoch 37/50\n",
      " - 4s - loss: 0.4578 - acc: 0.8456\n",
      "Epoch 38/50\n",
      " - 4s - loss: 0.4547 - acc: 0.8474\n",
      "Epoch 39/50\n",
      " - 4s - loss: 0.4545 - acc: 0.8500\n",
      "Epoch 40/50\n",
      " - 4s - loss: 0.4426 - acc: 0.8522\n",
      "Epoch 41/50\n",
      " - 4s - loss: 0.4572 - acc: 0.8457\n",
      "Epoch 42/50\n",
      " - 4s - loss: 0.4466 - acc: 0.8506\n",
      "Epoch 43/50\n",
      " - 4s - loss: 0.4405 - acc: 0.8507\n",
      "Epoch 44/50\n",
      " - 4s - loss: 0.4464 - acc: 0.8508\n",
      "Epoch 45/50\n",
      " - 4s - loss: 0.4360 - acc: 0.8556\n",
      "Epoch 46/50\n",
      " - 4s - loss: 0.4429 - acc: 0.8525\n",
      "Epoch 47/50\n",
      " - 4s - loss: 0.4437 - acc: 0.8536\n",
      "Epoch 48/50\n",
      " - 4s - loss: 0.4318 - acc: 0.8578\n",
      "Epoch 49/50\n",
      " - 4s - loss: 0.4408 - acc: 0.8541\n",
      "Epoch 50/50\n",
      " - 4s - loss: 0.4400 - acc: 0.8540\n"
     ]
    }
   ],
   "source": [
    "# 训练模型\n",
    "history = model.fit(Xtrain_normalize,\n",
    "                    Ytrain_onehot,\n",
    "                    batch_size=256,\n",
    "                    epochs=50,\n",
    "                    verbose=2)   "
   ]
  },
  {
   "cell_type": "markdown",
   "metadata": {},
   "source": [
    "**测试模型**"
   ]
  },
  {
   "cell_type": "code",
   "execution_count": 19,
   "metadata": {},
   "outputs": [
    {
     "name": "stdout",
     "output_type": "stream",
     "text": [
      "10000/10000 [==============================] - 1s 121us/step\n"
     ]
    }
   ],
   "source": [
    "# evaluate\n",
    "loss, accuracy = model.evaluate(Xtest_normalize, Ytest_onehot)"
   ]
  },
  {
   "cell_type": "code",
   "execution_count": 20,
   "metadata": {},
   "outputs": [
    {
     "name": "stdout",
     "output_type": "stream",
     "text": [
      "0.7413\n"
     ]
    }
   ],
   "source": [
    "print(accuracy)"
   ]
  },
  {
   "cell_type": "markdown",
   "metadata": {},
   "source": [
    "**模型保存**"
   ]
  },
  {
   "cell_type": "code",
   "execution_count": 21,
   "metadata": {},
   "outputs": [],
   "source": [
    "model.save(\"cifar10_model.h5\")"
   ]
  }
 ],
 "metadata": {
  "kernelspec": {
   "display_name": "Python 3",
   "language": "python",
   "name": "python3"
  },
  "language_info": {
   "codemirror_mode": {
    "name": "ipython",
    "version": 3
   },
   "file_extension": ".py",
   "mimetype": "text/x-python",
   "name": "python",
   "nbconvert_exporter": "python",
   "pygments_lexer": "ipython3",
   "version": "3.6.7"
  }
 },
 "nbformat": 4,
 "nbformat_minor": 2
}
